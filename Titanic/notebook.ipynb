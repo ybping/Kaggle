﻿{
 "metadata": {
  "kernelspec": {
   "display_name": "Python 3",
   "language": "python",
   "name": "python3"
  },
  "language_info": {
   "codemirror_mode": {
    "name": "ipython",
    "version": 3
   },
   "file_extension": ".py",
   "mimetype": "text/x-python",
   "name": "python",
   "nbconvert_exporter": "python",
   "pygments_lexer": "ipython3",
   "version": "3.5.2"
  }
 },
 "nbformat": 4,
 "nbformat_minor": 0,
 "cells": [
  {
   "cell_type": "code",
   "source": "# https://www.kaggle.com/ybping/titanic/titanics/editnb\nimport pandas as pd\nimport numpy as np",
   "execution_count": 2,
   "outputs": [],
   "metadata": {}
  },
  {
   "cell_type": "code",
   "source": "train_data = pd.read_csv('../input/train.csv', dtype={\"Age\": np.float64})\ntest_data = pd.read_csv('../input/test.csv', dtype={\"Age\": np.float64})",
   "execution_count": 3,
   "outputs": [],
   "metadata": {}
  },
  {
   "cell_type": "code",
   "source": "train_data = train_data.drop(['PassengerId', 'Name', 'Ticket'], axis=1)\ntest_data = test_data.drop(['Name', 'Ticket'], axis=1)",
   "execution_count": 4,
   "outputs": [],
   "metadata": {}
  },
  {
   "cell_type": "code",
   "source": "x_train = train_data.drop(\"Survived\", axis=1)\ny_train = train_data['Survived']\nx_test = test_data.drop('PassengerId',axis=1)",
   "execution_count": 5,
   "outputs": [],
   "metadata": {}
  },
  {
   "cell_type": "code",
   "source": "x_train.drop(['Sex', 'Embarked', 'Cabin'], inplace=True, axis=1)\nx_test.drop(['Sex', 'Embarked', 'Cabin'], inplace=True, axis=1)",
   "execution_count": 6,
   "outputs": [],
   "metadata": {}
  },
  {
   "cell_type": "code",
   "source": "# fill nan age columns\nage_x_train_mean = x_train['Age'].mean()\nage_x_train_std = x_train['Age'].std()\ncount_age_train_nan = x_train['Age'].isnull().sum()\n\nage_x_test_mean = x_test['Age'].mean()\nage_x_test_std = x_test['Age'].std()\ncount_age_test_nan = x_test['Age'].isnull().sum()\n\nimport numpy as np\nage_x_train_rand = np.random.randint(age_x_train_mean - age_x_train_std, age_x_train_mean + age_x_train_std, count_age_train_nan)\nage_x_test_rand = np.random.randint(age_x_test_mean - age_x_test_std, age_x_test_mean + age_x_test_std, count_age_test_nan)\n\n\nx_train.loc[:,('Age')][x_train['Age'].isnull()] = age_x_train_rand\nx_test.loc[:,('Age')][x_test['Age'].isnull()] = age_x_test_rand",
   "execution_count": 1,
   "outputs": [
    {
     "ename": "NameError",
     "evalue": "name 'x_train' is not defined",
     "output_type": "error",
     "traceback": [
      "",
      "NameErrorTraceback (most recent call last)",
      "<ipython-input-1-53b4395bef72> in <module>()\n      1 # fill nan age columns\n----> 2 age_x_train_mean = x_train['Age'].mean()\n      3 age_x_train_std = x_train['Age'].std()\n      4 count_age_train_nan = x_train['Age'].isnull().sum()\n      5 \n",
      "NameError: name 'x_train' is not defined"
     ]
    }
   ],
   "metadata": {}
  },
  {
   "cell_type": "code",
   "source": "x_test['Fare'].fillna(x_test['Fare'].median(), inplace=True)",
   "execution_count": 11,
   "outputs": [],
   "metadata": {}
  },
  {
   "cell_type": "code",
   "source": "from sklearn.ensemble import RandomForestClassifier\n\nrandom_forest = RandomForestClassifier(n_estimators=100)\nrandom_forest.fit(x_train, y_train)\ny_test = random_forest.predict(x_test)\nrandom_forest.score(x_train, y_train)",
   "execution_count": 12,
   "outputs": [],
   "metadata": {}
  },
  {
   "cell_type": "code",
   "source": "result = pd.DataFrame({\n        'PassengerId': test_data['PassengerId'],\n        'Survived':y_test\n        \n    })",
   "execution_count": 14,
   "outputs": [],
   "metadata": {}
  },
  {
   "cell_type": "code",
   "source": "result.to_csv('titanic.csv', index=False)",
   "execution_count": 16,
   "outputs": [],
   "metadata": {}
  },
  {
   "cell_type": "code",
   "source": "",
   "execution_count": null,
   "outputs": [],
   "metadata": {}
  },
  {
   "cell_type": "code",
   "source": "",
   "execution_count": null,
   "outputs": [],
   "metadata": {}
  }
 ]
}